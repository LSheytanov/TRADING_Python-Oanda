{
 "nbformat": 4,
 "nbformat_minor": 2,
 "metadata": {
  "language_info": {
   "name": "python",
   "codemirror_mode": {
    "name": "ipython",
    "version": 3
   },
   "version": "3.7.4-final"
  },
  "orig_nbformat": 2,
  "file_extension": ".py",
  "mimetype": "text/x-python",
  "name": "python",
  "npconvert_exporter": "python",
  "pygments_lexer": "ipython3",
  "version": 3,
  "kernelspec": {
   "name": "python37464bitbaseconda91af473d7a1b4400bc98ba1dfced4992",
   "display_name": "Python 3.7.4 64-bit ('base': conda)"
  }
 },
 "cells": [
  {
   "cell_type": "code",
   "execution_count": null,
   "metadata": {},
   "outputs": [],
   "source": [
    "import numpy as np\n",
    "import pandas as pd\n",
    "import matplotlib as plt\n",
    "\n",
    "import json\n",
    "from io import StringIO\n",
    "\n",
    "import oandapyV20\n",
    "from oandapyV20 import API\n",
    "import oandapyV20.endpoints.instruments as instruments\n",
    "import oandapyV20.endpoints.positions as positions\n",
    "import oandapyV20.endpoints.orders as orders\n",
    "import oandapyV20.endpoints.pricing as pricing\n",
    "\n",
    "from oandapyV20.contrib.factories import InstrumentsCandlesFactory\n",
    "\n",
    "accountID = \"101-004-11825438-001\"\n",
    "access_token = \"1f5b26a4026a2c558d1b7242d0893ec7-d8915fe936ed95e499e9d4efd57bb282\"\n",
    "\n",
    "client = oandapyV20.API(access_token=access_token)"
   ]
  },
  {
   "cell_type": "code",
   "execution_count": null,
   "metadata": {},
   "outputs": [],
   "source": [
    "instrument = \"EUR_USD\"\n",
    "granularity = \"S5\"\n",
    "_from = \"2020-02-05T00:00:00Z\"\n",
    "_to = \"2020-03-05T00:00:00Z\"\n",
    "count = \"8000\"\n",
    "\n",
    "params = {\n",
    "    \"from\": _from,\n",
    "    \"to\": _to,\n",
    "    \"granularity\": granularity,\n",
    "    }"
   ]
  },
  {
   "cell_type": "code",
   "execution_count": null,
   "metadata": {},
   "outputs": [],
   "source": [
    "data = []\n",
    "\n",
    "for r in InstrumentsCandlesFactory(instrument=instrument, params=params):\n",
    "    client.request(r)\n",
    "    for i in r.response['candles']:\n",
    "        data.append([i['time'], i['volume'], i['mid']['o'], i['mid']['h'], i['mid']['l'], i['mid']['c']])"
   ]
  },
  {
   "cell_type": "code",
   "execution_count": null,
   "metadata": {},
   "outputs": [],
   "source": [
    "df = pd.DataFrame(data)\n",
    "df.columns = ['Time', 'Volume', 'Open', 'High', 'Low', 'Close']\n",
    "df = df.set_index('Time')\n",
    "df = df.astype(np.float64)\n",
    "df.head()\n",
    "df.info()"
   ]
  },
  {
   "cell_type": "code",
   "execution_count": null,
   "metadata": {},
   "outputs": [],
   "source": [
    "df.to_csv('data.csv')"
   ]
  },
  {
   "cell_type": "code",
   "execution_count": null,
   "metadata": {},
   "outputs": [],
   "source": [
    "pd.read_csv('data.csv')  "
   ]
  },
  {
   "cell_type": "code",
   "execution_count": null,
   "metadata": {},
   "outputs": [],
   "source": [
    "df['returns'] = np.log(df['Close'] / df['Close'].shift(1))\n",
    "\n",
    "cols = []\n",
    "\n",
    "for momentum in [15, 30, 60, 120]:\n",
    "    col = 'position_%s' % momentum \n",
    "    df[col] = np.sign(df['returns'].rolling(momentum).mean())\n",
    "    cols.append(col)"
   ]
  },
  {
   "cell_type": "code",
   "execution_count": null,
   "metadata": {},
   "outputs": [],
   "source": [
    "%matplotlib inline\n",
    "import seaborn as sns; sns.set()\n",
    "\n",
    "strats = ['returns']\n",
    "\n",
    "for col in cols:\n",
    "    strat = 'strategy_%s' % col.split('_')[1]\n",
    "    df[strat] = df[col].shift(1) * df['returns']\n",
    "    strats.append(strat)\n",
    "\n",
    "df[strats].dropna().cumsum().apply(np.exp).plot()"
   ]
  },
  {
   "cell_type": "code",
   "execution_count": null,
   "metadata": {},
   "outputs": [],
   "source": [
    "r = positions.OpenPositions(accountID=accountID)\n",
    "\n",
    "\n",
    "print(\"REQUEST:{}\".format(r))\n",
    "rv = api.request(r)\n",
    "print(\"RESPONSE:\\n{}\".format(json.dumps(rv, indent=4)))\n",
    "\n",
    "print(len(r.response))"
   ]
  },
  {
   "cell_type": "code",
   "execution_count": null,
   "metadata": {},
   "outputs": [],
   "source": [
    "data = {\n",
    "  \"order\": {\n",
    "    \"price\": \"1.2\",\n",
    "    \"stopLossOnFill\": {\n",
    "      \"timeInForce\": \"GTC\",\n",
    "      \"price\": \"1.25\"\n",
    "    },\n",
    "    \"timeInForce\": \"GTC\",\n",
    "    \"instrument\": \"EUR_USD\",\n",
    "    \"units\": \"-100\",\n",
    "    \"type\": \"LIMIT\",\n",
    "    \"positionFill\": \"DEFAULT\"\n",
    "  }\n",
    "}\n",
    "\n",
    "r = orders.OrderCreate(accountID, data=data)\n",
    "print(\"REQUEST:{}\".format(r))\n",
    "rv = api.request(r)\n",
    "print(\"RESPONSE:\\n{}\".format(json.dumps(rv, indent=4)))"
   ]
  },
  {
   "cell_type": "code",
   "execution_count": null,
   "metadata": {},
   "outputs": [],
   "source": [
    "r = orders.OrderList(accountID)\n",
    "client.request(r)\n",
    "print(\"REQUEST:{}\".format(r))\n",
    "rv = api.request(r)\n",
    "print(\"RESPONSE:\\n{}\".format(json.dumps(rv, indent=4)))"
   ]
  },
  {
   "cell_type": "code",
   "execution_count": null,
   "metadata": {},
   "outputs": [],
   "source": [
    "api = API(access_token=access_token)\n",
    "\n",
    "\n",
    "r = trades.TradesList(accountID)\n",
    "\n",
    "print(\"REQUEST:{}\".format(r))\n",
    "rv = api.request(r)\n",
    "print(\"RESPONSE:\\n{}\".format(json.dumps(rv, indent=4)))"
   ]
  },
  {
   "cell_type": "code",
   "execution_count": null,
   "metadata": {},
   "outputs": [],
   "source": [
    "r = orders.OrderList(accountID)\n",
    "print(\"REQUEST:{}\".format(r))\n",
    "rv = api.request(r)\n",
    "print(\"RESPONSE:\\n{}\".format(json.dumps(rv, indent=4)))\n",
    "\n",
    "print(len(r.response))"
   ]
  },
  {
   "cell_type": "code",
   "execution_count": null,
   "metadata": {},
   "outputs": [],
   "source": [
    "params ={\n",
    "          \"instruments\": \"EUR_USD\"}\n",
    "        \n",
    "r = pricing.PricingInfo(accountID=accountID, params=params)\n",
    "\n",
    "print(\"REQUEST:{}\".format(r))\n",
    "rv = api.request(r)\n",
    "print(\"RESPONSE:\\n{}\".format(json.dumps(rv, indent=4)))"
   ]
  },
  {
   "cell_type": "code",
   "execution_count": null,
   "metadata": {},
   "outputs": [],
   "source": [
    "import sklearn"
   ]
  }
 ]
}